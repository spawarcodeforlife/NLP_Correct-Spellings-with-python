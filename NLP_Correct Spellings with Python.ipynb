{
 "cells": [
  {
   "cell_type": "code",
   "execution_count": 1,
   "id": "b394b0bf",
   "metadata": {},
   "outputs": [
    {
     "data": {
      "text/plain": [
       "'/Users/surajpawar/Desktop/NLP_Correct Spellings with Python'"
      ]
     },
     "execution_count": 1,
     "metadata": {},
     "output_type": "execute_result"
    }
   ],
   "source": [
    "pwd"
   ]
  },
  {
   "cell_type": "code",
   "execution_count": 3,
   "id": "85b92a06",
   "metadata": {},
   "outputs": [],
   "source": [
    "from textblob import TextBlob"
   ]
  },
  {
   "cell_type": "code",
   "execution_count": 4,
   "id": "87c6c301",
   "metadata": {},
   "outputs": [],
   "source": [
    "words = [\"machne\", \"learnin\", \"artifical\", \"inteligense\"]"
   ]
  },
  {
   "cell_type": "code",
   "execution_count": 5,
   "id": "8e6af0bb",
   "metadata": {},
   "outputs": [],
   "source": [
    "corrected_words = []\n",
    "\n",
    "for i in words:\n",
    "    corrected_words.append(TextBlob(i))"
   ]
  },
  {
   "cell_type": "code",
   "execution_count": 8,
   "id": "abcd7236",
   "metadata": {},
   "outputs": [
    {
     "name": "stdout",
     "output_type": "stream",
     "text": [
      "wrong words are:  ['machne', 'learnin', 'artifical', 'inteligense']\n",
      "correct words are:  ['machne', 'learnin', 'artifical', 'inteligense']\n",
      "machine learning artificial intelligence "
     ]
    }
   ],
   "source": [
    "print(\"wrong words are: \", words)\n",
    "print(\"correct words are: \", words)\n",
    "for i in corrected_words:\n",
    "    print(i.correct(), end=\" \")"
   ]
  },
  {
   "cell_type": "code",
   "execution_count": null,
   "id": "d4eb9ed2",
   "metadata": {},
   "outputs": [],
   "source": []
  }
 ],
 "metadata": {
  "kernelspec": {
   "display_name": "Python 3 (ipykernel)",
   "language": "python",
   "name": "python3"
  },
  "language_info": {
   "codemirror_mode": {
    "name": "ipython",
    "version": 3
   },
   "file_extension": ".py",
   "mimetype": "text/x-python",
   "name": "python",
   "nbconvert_exporter": "python",
   "pygments_lexer": "ipython3",
   "version": "3.10.9"
  }
 },
 "nbformat": 4,
 "nbformat_minor": 5
}
